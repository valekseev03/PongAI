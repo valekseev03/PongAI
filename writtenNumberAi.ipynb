{
  "nbformat": 4,
  "nbformat_minor": 0,
  "metadata": {
    "kernelspec": {
      "display_name": "Python 3",
      "language": "python",
      "name": "python3"
    },
    "language_info": {
      "codemirror_mode": {
        "name": "ipython",
        "version": 3
      },
      "file_extension": ".py",
      "mimetype": "text/x-python",
      "name": "python",
      "nbconvert_exporter": "python",
      "pygments_lexer": "ipython3",
      "version": "3.7.3"
    },
    "colab": {
      "provenance": []
    }
  },
  "cells": [
    {
      "cell_type": "markdown",
      "source": [
        "# Creating the Neural Network"
      ],
      "metadata": {
        "id": "WHLRDtagT_EJ"
      }
    },
    {
      "cell_type": "code",
      "metadata": {
        "scrolled": true,
        "colab": {
          "base_uri": "https://localhost:8080/"
        },
        "id": "H78y6KzLpIMH",
        "outputId": "1def6d4b-15b2-4806-cd74-26689ea6e3d1"
      },
      "source": [
        "import tensorflow as tf\n",
        "from keras import backend as K\n",
        "\n",
        "num_cores = 4\n",
        "\n",
        "GPU = False\n",
        "CPU = True\n",
        "\n",
        "if GPU:\n",
        "    num_GPU = 1\n",
        "    num_CPU = 1\n",
        "if CPU:\n",
        "    num_CPU = 4\n",
        "    num_GPU = 0\n",
        "\n",
        "#config = tf.ConfigProto(intra_op_parallelism_threads=num_cores,\n",
        " #                       inter_op_parallelism_threads=num_cores, \n",
        "  #                      allow_soft_placement=True,\n",
        "   #                     device_count = {'CPU' : num_CPU,\n",
        "    #                                    'GPU' : num_GPU}\n",
        "     #                  )\n",
        "\n",
        "#session = tf.Session(config=config)\n",
        "#K.set_session(session)\n",
        "\n",
        "from keras.datasets import mnist\n",
        "(train_images, train_labels), (test_images, test_labels) = mnist.load_data()\n",
        "\n",
        "from keras import models\n",
        "from keras import layers\n",
        "\n",
        "network = models.Sequential()\n",
        "network.add(layers.Conv2D(64, kernel_size=3, activation='relu', input_shape=(28, 28, 1)))\n",
        "network.add(layers.MaxPooling2D((2,2)))\n",
        "network.add(layers.Conv2D(32, kernel_size=3, activation='tanh'))\n",
        "network.add(layers.MaxPooling2D((2,2)))\n",
        "network.add(layers.Flatten())\n",
        "network.add(layers.Dropout(0.5))\n",
        "network.add(layers.Dense(10, activation='softmax'))\n",
        "\n",
        "network.compile(optimizer='adam',\n",
        "                loss='categorical_crossentropy',\n",
        "                metrics=['accuracy'])\n",
        "\n",
        "train_images = train_images.reshape((60000, 28, 28, 1))\n",
        "#train_images = train_images.astype('float32') / 255\n",
        "\n",
        "test_images = test_images.reshape((10000, 28, 28, 1))\n",
        "#test_images = test_images.astype('float32') / 255\n",
        "\n",
        "from keras.utils import to_categorical\n",
        "\n",
        "train_labels = to_categorical(train_labels)\n",
        "test_labels = to_categorical(test_labels)\n",
        "                             \n",
        "network.fit(train_images, train_labels, epochs=3, batch_size=100, validation_data=(test_images, test_labels))\n",
        "\n",
        "test_loss, test_acc = network.evaluate(test_images, test_labels)\n",
        "print('test_acc:', test_acc)"
      ],
      "execution_count": null,
      "outputs": [
        {
          "output_type": "stream",
          "name": "stdout",
          "text": [
            "Downloading data from https://storage.googleapis.com/tensorflow/tf-keras-datasets/mnist.npz\n",
            "11490434/11490434 [==============================] - 1s 0us/step\n",
            "Epoch 1/3\n",
            "600/600 [==============================] - 93s 149ms/step - loss: 0.5078 - accuracy: 0.8377 - val_loss: 0.1298 - val_accuracy: 0.9587\n",
            "Epoch 2/3\n",
            "600/600 [==============================] - 78s 131ms/step - loss: 0.1809 - accuracy: 0.9428 - val_loss: 0.0892 - val_accuracy: 0.9710\n",
            "Epoch 3/3\n",
            "600/600 [==============================] - 90s 150ms/step - loss: 0.1419 - accuracy: 0.9552 - val_loss: 0.0722 - val_accuracy: 0.9779\n",
            "313/313 [==============================] - 5s 16ms/step - loss: 0.0722 - accuracy: 0.9779\n",
            "test_acc: 0.9779000282287598\n"
          ]
        }
      ]
    },
    {
      "cell_type": "markdown",
      "source": [
        "# Testing that Neural Network Works"
      ],
      "metadata": {
        "id": "dn5_ntwSUItT"
      }
    },
    {
      "cell_type": "code",
      "metadata": {
        "id": "IFV5CAsTpIMX"
      },
      "source": [
        "import matplotlib.pyplot as plt"
      ],
      "execution_count": null,
      "outputs": []
    },
    {
      "cell_type": "code",
      "metadata": {
        "colab": {
          "base_uri": "https://localhost:8080/",
          "height": 439
        },
        "id": "icslEgOlpIMZ",
        "outputId": "86d7137d-3255-4abd-8d4f-e9aced3a3299"
      },
      "source": [
        "print(network.predict(train_images[99:102]))\n",
        "plt.imshow(train_images[101, :, :, 0])\n",
        "plt.show()"
      ],
      "execution_count": null,
      "outputs": [
        {
          "output_type": "stream",
          "name": "stdout",
          "text": [
            "1/1 [==============================] - 0s 100ms/step\n",
            "[[1.04985113e-04 9.97524083e-01 1.38012365e-05 2.05249194e-06\n",
            "  2.05105497e-03 4.20488817e-07 5.54719054e-06 1.45731814e-04\n",
            "  1.14211914e-04 3.80419842e-05]\n",
            " [1.45170619e-04 6.20552601e-06 4.63293463e-06 2.98184113e-05\n",
            "  9.65683103e-06 9.86543357e-01 4.15665051e-03 1.28964200e-06\n",
            "  8.76342133e-03 3.39633378e-04]\n",
            " [1.88193473e-04 1.18334185e-06 2.01072021e-06 1.12767407e-06\n",
            "  1.96585752e-05 1.05602305e-06 6.04021322e-09 9.99206007e-01\n",
            "  3.31474394e-06 5.77476516e-04]]\n"
          ]
        },
        {
          "output_type": "display_data",
          "data": {
            "text/plain": [
              "<Figure size 432x288 with 1 Axes>"
            ],
            "image/png": "[encoded data removed]"
          },
          "metadata": {
            "needs_background": "light"
          }
        }
      ]
    },
    {
      "cell_type": "code",
      "metadata": {
        "scrolled": false,
        "colab": {
          "base_uri": "https://localhost:8080/",
          "height": 1000
        },
        "id": "W7J4E382pIMb",
        "outputId": "b1029cb8-bd81-4eda-ddca-825528947b99"
      },
      "source": [
        "for i in range(9):\n",
        "    plt.imshow(train_images[i, :, :, 0])\n",
        "    plt.show()\n",
        "print(network.predict(train_images[:i+1]))"
      ],
      "execution_count": null,
      "outputs": [
        {
          "output_type": "display_data",
          "data": {
            "text/plain": [
              "<Figure size 432x288 with 1 Axes>"
            ],
            "image/png": "[encoded data removed]"
          },
          "metadata": {
            "needs_background": "light"
          }
        },
        {
          "output_type": "display_data",
          "data": {
            "text/plain": [
              "<Figure size 432x288 with 1 Axes>"
            ],
            "image/png": "[encoded data removed]"
          },
          "metadata": {
            "needs_background": "light"
          }
        },
        {
          "output_type": "display_data",
          "data": {
            "text/plain": [
              "<Figure size 432x288 with 1 Axes>"
            ],
            "image/png": "[encoded data removed]"
          },
          "metadata": {
            "needs_background": "light"
          }
        },
        {
          "output_type": "display_data",
          "data": {
            "text/plain": [
              "<Figure size 432x288 with 1 Axes>"
            ],
            "image/png": "[encoded data removed]"
          },
          "metadata": {
            "needs_background": "light"
          }
        },
        {
          "output_type": "display_data",
          "data": {
            "text/plain": [
              "<Figure size 432x288 with 1 Axes>"
            ],
            "image/png": "[encoded data removed]"
          },
          "metadata": {
            "needs_background": "light"
          }
        },
        {
          "output_type": "display_data",
          "data": {
            "text/plain": [
              "<Figure size 432x288 with 1 Axes>"
            ],
            "image/png": "[encoded data removed]"
          },
          "metadata": {
            "needs_background": "light"
          }
        },
        {
          "output_type": "display_data",
          "data": {
            "text/plain": [
              "<Figure size 432x288 with 1 Axes>"
            ],
            "image/png": "[encoded data removed]"
          },
          "metadata": {
            "needs_background": "light"
          }
        },
        {
          "output_type": "display_data",
          "data": {
            "text/plain": [
              "<Figure size 432x288 with 1 Axes>"
            ],
            "image/png": "[encoded data removed]"
          },
          "metadata": {
            "needs_background": "light"
          }
        },
        {
          "output_type": "display_data",
          "data": {
            "text/plain": [
              "<Figure size 432x288 with 1 Axes>"
            ],
            "image/png": "[encoded data removed]"
          },
          "metadata": {
            "needs_background": "light"
          }
        },
        {
          "output_type": "stream",
          "name": "stdout",
          "text": [
            "1/1 [==============================] - 0s 107ms/step\n",
            "[[3.79305121e-08 1.07171175e-07 1.21803311e-07 2.42737252e-02\n",
            "  1.93649932e-08 9.75627601e-01 3.00243386e-08 1.83261654e-05\n",
            "  7.54776993e-05 4.42532883e-06]\n",
            " [9.99993622e-01 2.49851762e-09 6.23891538e-07 1.94616767e-08\n",
            "  7.48738032e-08 2.29279600e-08 3.15001353e-06 3.31375851e-08\n",
            "  4.98390250e-07 1.71289059e-06]\n",
            " [1.32355216e-09 1.44878777e-06 4.74058652e-07 4.78562072e-07\n",
            "  9.99838591e-01 4.51360336e-08 3.37899020e-09 1.09643715e-05\n",
            "  6.04951026e-07 1.47295214e-04]\n",
            " [5.41086993e-05 9.99595463e-01 1.49315229e-05 2.90827245e-07\n",
            "  9.24712731e-05 3.90707342e-08 7.15326169e-05 3.70681155e-05\n",
            "  1.30645640e-04 3.36583139e-06]\n",
            " [6.95188282e-06 4.82717587e-06 4.69725319e-06 1.48178879e-05\n",
            "  2.66712182e-03 2.29845500e-06 6.07277784e-09 3.23795527e-03\n",
            "  2.22908013e-04 9.93838429e-01]\n",
            " [2.48142032e-06 2.16153509e-07 9.99353349e-01 4.61007676e-06\n",
            "  3.32344285e-07 5.20746912e-09 1.65802572e-09 1.01145979e-05\n",
            "  6.27685338e-04 1.21497408e-06]\n",
            " [9.17404122e-07 9.99470353e-01 7.46176238e-06 3.15655016e-05\n",
            "  4.64275399e-05 9.94937636e-07 3.32823606e-06 7.91651382e-06\n",
            "  4.25788603e-04 5.36599418e-06]\n",
            " [3.61611363e-09 1.50293982e-08 7.10679669e-05 9.99847651e-01\n",
            "  2.28357933e-09 6.31558862e-07 2.36542882e-13 2.66285747e-06\n",
            "  7.30796382e-05 5.09686652e-06]\n",
            " [2.39049427e-07 9.99922633e-01 2.34885221e-07 1.16392835e-06\n",
            "  2.32079910e-05 2.97066919e-07 5.67334291e-06 2.22713311e-06\n",
            "  4.32348133e-05 1.20261518e-06]]\n"
          ]
        }
      ]
    },
    {
      "cell_type": "code",
      "metadata": {
        "id": "71kV7KEfpIMd",
        "outputId": "cb333e6e-533a-4b9a-b4c6-bd95d9c0ce4d",
        "colab": {
          "base_uri": "https://localhost:8080/"
        }
      },
      "source": [
        "print(train_images.shape)\n",
        "print(train_labels.shape)"
      ],
      "execution_count": null,
      "outputs": [
        {
          "output_type": "stream",
          "name": "stdout",
          "text": [
            "(60000, 28, 28, 1)\n",
            "(60000, 10)\n"
          ]
        }
      ]
    },
    {
      "cell_type": "markdown",
      "source": [
        "# Using Neural Network On User Generated Images From Paint"
      ],
      "metadata": {
        "id": "-BlcfRY8UTuS"
      }
    },
    {
      "cell_type": "code",
      "metadata": {
        "id": "l0cFEObXpIMg"
      },
      "source": [
        "from PIL import Image, ImageFilter, ImageOps\n",
        "import numpy as np\n",
        "import matplotlib.pyplot as plt\n",
        "from keras import preprocessing\n",
        "\n",
        "#import tensorflow-gpu"
      ],
      "execution_count": null,
      "outputs": []
    },
    {
      "cell_type": "markdown",
      "source": [
        "**Using Jupyter Notebok**"
      ],
      "metadata": {
        "id": "-uYuZBe_V_OR"
      }
    },
    {
      "cell_type": "code",
      "metadata": {
        "scrolled": true,
        "id": "AcPvSEw1pIMh"
      },
      "source": [
        "train_datagen = preprocessing.image.ImageDataGenerator(rescale=1)\n",
        "\n",
        "for i in range(10):\n",
        "    image = (Image.open(\"AIPics/IMG_\"+str(i+4588)+\".JPG\"))\n",
        "    #image = rawimage.copy()\n",
        "    image = ImageOps.invert(image)\n",
        "    image = image.rotate(270)\n",
        "    image = image.resize((28,28))\n",
        "    image = image.convert(mode=\"L\", matrix=None, dither=None, palette=0, colors=256)\n",
        "    array = np.asarray(image, dtype=float)\n",
        "    arrayboi = array.copy()\n",
        "    #print(arrayboi.flags)\n",
        "    #arrayboi.setflags(write=1)\n",
        "    arrayboi = train_datagen.standardize(np.copy(arrayboi))\n",
        "    for a in range(len(arrayboi[:])):\n",
        "        for b in range(len(arrayboi[a])):\n",
        "            if arrayboi[a,b] < 150:\n",
        "                arrayboi[a,b] = 0\n",
        "            else:\n",
        "                arrayboi[a,b] = 255\n",
        "    arrayboi = np.resize(arrayboi,(1,28,28,1))\n",
        "    #print(arrayboi)\n",
        "    print(network.predict(arrayboi))\n",
        "    plt.imshow(arrayboi[0, :, :, 0], cmap=\"Greys\")\n",
        "    plt.show()"
      ],
      "execution_count": null,
      "outputs": []
    },
    {
      "cell_type": "code",
      "metadata": {
        "scrolled": false,
        "id": "bxffHId0pIMk"
      },
      "source": [
        "for i in range(1):\n",
        "    image = (Image.open(\"sevennn.png\"))\n",
        "    #image = rawimage.copy()\n",
        "    image = ImageOps.invert(image)\n",
        "    image = image.crop((0,0,712,950))\n",
        "    image = image.resize((28,28))\n",
        "    image = image.convert(mode=\"L\", matrix=None, dither=None, palette=0, colors=256)\n",
        "    array = np.asarray(image, dtype=float)\n",
        "    arrayboi = array.copy()\n",
        "    #print(arrayboi.flags)\n",
        "    #arrayboi.setflags(write=1)\n",
        "    arrayboi = train_datagen.standardize(np.copy(arrayboi))\n",
        "    for a in range(len(arrayboi[:])):\n",
        "        for b in range(len(arrayboi[a])):\n",
        "            if arrayboi[a,b] < 110:\n",
        "                arrayboi[a,b] = 0\n",
        "            else:\n",
        "                arrayboi[a,b] = 255\n",
        "    arrayboi = np.resize(arrayboi,(1,28,28,1))\n",
        "    #print(arrayboi)\n",
        "    print(network.predict(arrayboi))\n",
        "    plt.imshow(arrayboi[0, :, :, 0], cmap=\"Greys\")\n",
        "    plt.show()"
      ],
      "execution_count": null,
      "outputs": []
    },
    {
      "cell_type": "markdown",
      "source": [
        "**Using Google Colab**"
      ],
      "metadata": {
        "id": "fH3No-vhVthO"
      }
    },
    {
      "cell_type": "code",
      "metadata": {
        "colab": {
          "base_uri": "https://localhost:8080/"
        },
        "id": "DP2GgLuZq0G-",
        "outputId": "8c8122cf-9c6b-45b2-84c1-d3136c08ecbd"
      },
      "source": [
        "from google.colab import drive\n",
        "drive.mount('/content/gdrive')"
      ],
      "execution_count": null,
      "outputs": [
        {
          "output_type": "stream",
          "name": "stdout",
          "text": [
            "Mounted at /content/gdrive\n"
          ]
        }
      ]
    },
    {
      "cell_type": "code",
      "metadata": {
        "colab": {
          "base_uri": "https://localhost:8080/",
          "height": 300
        },
        "id": "GIlMD25UrJEP",
        "outputId": "0506cc76-255f-48e8-b0ce-2da60d3089fc"
      },
      "source": [
        "train_datagen = preprocessing.image.ImageDataGenerator(rescale=1)\n",
        "\n",
        "import imageio\n",
        "import numpy as np\n",
        "import matplotlib.pyplot as plt\n",
        "import matplotlib.animation as animation\n",
        "from skimage.transform import resize\n",
        "from IPython.display import HTML\n",
        "import warnings\n",
        "warnings.filterwarnings(\"ignore\")\n",
        "\n",
        "for i in range(1):\n",
        "    image = Image.open('/content/gdrive/My Drive/sevennn.png') #import image here\n",
        "    #image = rawimage.copy()\n",
        "    image = ImageOps.invert(image)\n",
        "    image = image.convert(mode=\"L\", matrix=None, dither=None, palette=0, colors=256)\n",
        "    array = np.asarray(image, dtype=float)\n",
        "    arrayboi = array.copy()\n",
        "    #print(arrayboi.flags)\n",
        "    #arrayboi.setflags(write=1)\n",
        "    arrayboi = train_datagen.standardize(np.copy(arrayboi))\n",
        "    for a in range(len(arrayboi[:])):\n",
        "        for b in range(len(arrayboi[a])):\n",
        "            if arrayboi[a,b] < 110:\n",
        "                arrayboi[a,b] = 0\n",
        "            else:\n",
        "                arrayboi[a,b] = 255\n",
        "    arrayboi = np.resize(arrayboi,(1,28,28,1))\n",
        "\n",
        "    result = np.round(network.predict(arrayboi)) #get number result from image\n",
        "    print(\"AI Prediction: \" + str(np.argwhere(result==1.).sum()))\n",
        "\n",
        "    plt.imshow(arrayboi[0, :, :, 0], cmap=\"Greys\")\n",
        "    plt.show()"
      ],
      "execution_count": null,
      "outputs": [
        {
          "output_type": "stream",
          "name": "stdout",
          "text": [
            "1/1 [==============================] - 0s 19ms/step\n",
            "AI Prediction: 7\n"
          ]
        },
        {
          "output_type": "display_data",
          "data": {
            "text/plain": [
              "<Figure size 432x288 with 1 Axes>"
            ],
            "image/png": "[encoded data removed]"
          },
          "metadata": {
            "needs_background": "light"
          }
        }
      ]
    },
    {
      "cell_type": "markdown",
      "metadata": {
        "id": "V7nDULxvrspp"
      },
      "source": [
        "--End of Necessary Code--"
      ]
    },
    {
      "cell_type": "code",
      "metadata": {
        "id": "iih5Mn0fpIMx"
      },
      "source": [],
      "execution_count": null,
      "outputs": []
    }
  ]
}