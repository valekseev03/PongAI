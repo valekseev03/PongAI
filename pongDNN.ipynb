{
  "nbformat": 4,
  "nbformat_minor": 0,
  "metadata": {
    "kernelspec": {
      "display_name": "Python 3",
      "language": "python",
      "name": "python3"
    },
    "language_info": {
      "codemirror_mode": {
        "name": "ipython",
        "version": 3
      },
      "file_extension": ".py",
      "mimetype": "text/x-python",
      "name": "python",
      "nbconvert_exporter": "python",
      "pygments_lexer": "ipython3",
      "version": "3.7.3"
    },
    "colab": {
      "provenance": []
    }
  },
  "cells": [
    {
      "cell_type": "markdown",
      "source": [
        "## AI Class"
      ],
      "metadata": {
        "id": "0XXy0GtLNLBZ"
      }
    },
    {
      "cell_type": "code",
      "source": [
        "import numpy as np\n",
        "import matplotlib.pyplot as plt\n",
        "from tqdm import trange\n",
        "\n",
        "from IPython.core.debugger import set_trace\n",
        "\n",
        "# Plot will not show without below line\n",
        "%matplotlib inline\n",
        "\n",
        "#######################################\n",
        "#activation functions and their derivatives\n",
        "\n",
        "# for regression\n",
        "def linear(net):\n",
        "    return net\n",
        "\n",
        "def linearDerivative(outputMatrix):\n",
        "    return 1\n",
        "\n",
        "# for classification (between 0 and 1), also called logistic function\n",
        "# used in output layers for binary classification and also in hidden layers\n",
        "def sigmoid(net):\n",
        "    return 1/(1+np.exp(-net))\n",
        "\n",
        "def sigmoidDerivative(outputMatrix):\n",
        "    return outputMatrix*(1-outputMatrix)\n",
        "\n",
        "# used in hidden layers, Generally better than other activation functions\n",
        "def relu(net):\n",
        "    return net * (net > 0)\n",
        "\n",
        "def reluDerivative(outputMatrix):\n",
        "    return 1. * (outputMatrix > 0)\n",
        "\n",
        "# for classification (between -1 and 1) \n",
        "def tanh(net):\n",
        "    return np.tanh(net)\n",
        "\n",
        "def tanhDerivative(outputMatrix):\n",
        "    return 1 - np.tanh(outputMatrix)**2\n",
        "\n",
        "\n",
        "##########################################\n",
        "# connection and layer\n",
        "\n",
        "class Connections:\n",
        "    def __init__(self, numOfPerceptronsInLayerI, numOfPerceptronsInLayerJ):\n",
        "        self.weightMatrix = 2.0*np.random.rand(numOfPerceptronsInLayerI, numOfPerceptronsInLayerJ)-1.0\n",
        "        self.biasVector = 2.0*np.random.rand(numOfPerceptronsInLayerJ)-1.0\n",
        "        \n",
        "class Layer:\n",
        "    def __init__(self, numOfPerceptrons, activationFunction, derivActivationFunction):\n",
        "        self.activationFunction = activationFunction     \n",
        "        self.derivActivationFunction = derivActivationFunction     \n",
        "        self.outputMatrix = np.zeros([0, numOfPerceptrons])\n",
        "\n",
        "###########################################\n",
        "\n",
        "class MultiLayerPerceptron:\n",
        "    def __init__(self, learningRate, numOfIterationsMax):\n",
        "        self.layers = np.empty([0], dtype=Layer)\n",
        "        self.connectionsArray = np.empty([0], dtype=Connections)\n",
        "        \n",
        "        self.LEARNING_RATE = learningRate\n",
        "        self.numOfIterationsMax = numOfIterationsMax\n",
        "        \n",
        "        self.squareErrorMatrix = np.empty([0,0])\n",
        "        \n",
        "    def addLayer(self, numOfPerceptrons, activationFunction, derivActivationFunction):\n",
        "        if self.layers.size == 0:\n",
        "            self.layers = np.append(self.layers, Layer(numOfPerceptrons, None, None))\n",
        "        else:\n",
        "            self.layers = np.append(self.layers, Layer(numOfPerceptrons, activationFunction, derivActivationFunction))\n",
        "        \n",
        "        if self.layers.size >= 2:\n",
        "            connections = Connections(self.layers[self.layers.size-2].outputMatrix.shape[1],\n",
        "                                      self.layers[self.layers.size-1].outputMatrix.shape[1])\n",
        "            self.connectionsArray = np.append(self.connectionsArray, connections)\n",
        "\n",
        "    def forwardPass(self, featureMatrix):\n",
        "        self.layers[0].outputMatrix = featureMatrix\n",
        "        for i in range(1, self.layers.size):\n",
        "            net = self.layers[i-1].outputMatrix @ self.connectionsArray[i-1].weightMatrix + self.connectionsArray[i-1].biasVector\n",
        "            self.layers[i].outputMatrix =  self.layers[i].activationFunction(net)\n",
        "            \n",
        "        return self.layers[i].outputMatrix\n",
        "    \n",
        "    def backwardPass(self, errorMatrix):\n",
        "        dErrorMatrix = errorMatrix*-1\n",
        "        \n",
        "        deltaMatrixCollection = np.empty([self.connectionsArray.size], dtype=object)       \n",
        "        for i in range(self.connectionsArray.size-1, -1, -1):\n",
        "            #set_trace()\n",
        "            deltaMatrixCollection[i] = \\\n",
        "                            dErrorMatrix*self.layers[i+1].derivActivationFunction(self.layers[i+1].outputMatrix)\n",
        "            \n",
        "            dErrorMatrix = deltaMatrixCollection[i].dot(self.connectionsArray[i].weightMatrix.T)            \n",
        "        \n",
        "        #now update the weights and bias\n",
        "        for i in range(self.connectionsArray.size-1, -1, -1):\n",
        "            self.connectionsArray[i].weightMatrix -= self.layers[i].outputMatrix.T.dot(deltaMatrixCollection[i])*self.LEARNING_RATE\n",
        "            self.connectionsArray[i].biasVector -= np.sum(deltaMatrixCollection[i], axis=0)*self.LEARNING_RATE\n",
        "    \n",
        "    def train(self, featureMatrix, labelMatrix):\n",
        "        self.squareErrorMatrix = np.empty([0,np.size(labelMatrix, axis=1)])\n",
        "       # print(self.squareErrorMatrix.shape)\n",
        "        t = trange(self.numOfIterationsMax, desc='Algorithm Progress', leave=True)\n",
        "        for i in t:\n",
        "            #print(i)\n",
        "            #forward pass - predict labels\n",
        "            predictionMatrix = self.forwardPass(featureMatrix)\n",
        "            \n",
        "            #calculate error\n",
        "            errorMatrix = labelMatrix - predictionMatrix\n",
        "            #print(errorMatrix)\n",
        "\n",
        "            #calculate square error vector and add to array\n",
        "            squareErrorVector = 0.5*np.sum(errorMatrix**2, axis=0)\n",
        "            #print('squareErrorVector=', squareErrorVector.shape)\n",
        "            self.squareErrorMatrix = np.vstack((self.squareErrorMatrix, squareErrorVector))\n",
        "            \n",
        "            #backward pass - adjust weights\n",
        "            self.backwardPass(errorMatrix)\n",
        "        \n",
        "        if i == self.numOfIterationsMax:\n",
        "            print(\"Maximum iterations reached. Square Error is still too large. Increase LEARNING RATE and/or numOfIterationsMax\")\n",
        "        \n",
        "    def predictLabels(self, featureMatrix):\n",
        "        return self.forwardPass(featureMatrix)\n"
      ],
      "metadata": {
        "id": "yCOkeHpcMVpO"
      },
      "execution_count": 2,
      "outputs": []
    },
    {
      "cell_type": "markdown",
      "source": [
        "## Import Data"
      ],
      "metadata": {
        "id": "oYDJfHrFNQ_c"
      }
    },
    {
      "cell_type": "code",
      "metadata": {
        "id": "sk4Xpoo-onDS"
      },
      "source": [
        "import pandas\n",
        "import random"
      ],
      "execution_count": 3,
      "outputs": []
    },
    {
      "cell_type": "markdown",
      "source": [
        "**Using Jupyter Notebook**"
      ],
      "metadata": {
        "id": "MNb5-_3LNTZt"
      }
    },
    {
      "cell_type": "code",
      "metadata": {
        "id": "XPYMlToaonDV",
        "colab": {
          "base_uri": "https://localhost:8080/",
          "height": 311
        },
        "outputId": "54c6cd3a-82b7-4769-dfcf-29bc8969e05d"
      },
      "source": [
        "csvdata = np.genfromtxt(\"pongdata.csv\", delimiter=',')"
      ],
      "execution_count": 4,
      "outputs": [
        {
          "output_type": "error",
          "ename": "OSError",
          "evalue": "ignored",
          "traceback": [
            "\u001b[0;31m---------------------------------------------------------------------------\u001b[0m",
            "\u001b[0;31mOSError\u001b[0m                                   Traceback (most recent call last)",
            "\u001b[0;32m<ipython-input-4-24d9870bdd8e>\u001b[0m in \u001b[0;36m<module>\u001b[0;34m\u001b[0m\n\u001b[0;32m----> 1\u001b[0;31m \u001b[0mcsvdata\u001b[0m \u001b[0;34m=\u001b[0m \u001b[0mnp\u001b[0m\u001b[0;34m.\u001b[0m\u001b[0mgenfromtxt\u001b[0m\u001b[0;34m(\u001b[0m\u001b[0;34m\"pongdata.csv\"\u001b[0m\u001b[0;34m,\u001b[0m \u001b[0mdelimiter\u001b[0m\u001b[0;34m=\u001b[0m\u001b[0;34m','\u001b[0m\u001b[0;34m)\u001b[0m\u001b[0;34m\u001b[0m\u001b[0;34m\u001b[0m\u001b[0m\n\u001b[0m",
            "\u001b[0;32m/usr/local/lib/python3.7/dist-packages/numpy/lib/npyio.py\u001b[0m in \u001b[0;36mgenfromtxt\u001b[0;34m(fname, dtype, comments, delimiter, skip_header, skip_footer, converters, missing_values, filling_values, usecols, names, excludelist, deletechars, replace_space, autostrip, case_sensitive, defaultfmt, unpack, usemask, loose, invalid_raise, max_rows, encoding, like)\u001b[0m\n\u001b[1;32m   1791\u001b[0m             \u001b[0mfname\u001b[0m \u001b[0;34m=\u001b[0m \u001b[0mos_fspath\u001b[0m\u001b[0;34m(\u001b[0m\u001b[0mfname\u001b[0m\u001b[0;34m)\u001b[0m\u001b[0;34m\u001b[0m\u001b[0;34m\u001b[0m\u001b[0m\n\u001b[1;32m   1792\u001b[0m         \u001b[0;32mif\u001b[0m \u001b[0misinstance\u001b[0m\u001b[0;34m(\u001b[0m\u001b[0mfname\u001b[0m\u001b[0;34m,\u001b[0m \u001b[0mstr\u001b[0m\u001b[0;34m)\u001b[0m\u001b[0;34m:\u001b[0m\u001b[0;34m\u001b[0m\u001b[0;34m\u001b[0m\u001b[0m\n\u001b[0;32m-> 1793\u001b[0;31m             \u001b[0mfid\u001b[0m \u001b[0;34m=\u001b[0m \u001b[0mnp\u001b[0m\u001b[0;34m.\u001b[0m\u001b[0mlib\u001b[0m\u001b[0;34m.\u001b[0m\u001b[0m_datasource\u001b[0m\u001b[0;34m.\u001b[0m\u001b[0mopen\u001b[0m\u001b[0;34m(\u001b[0m\u001b[0mfname\u001b[0m\u001b[0;34m,\u001b[0m \u001b[0;34m'rt'\u001b[0m\u001b[0;34m,\u001b[0m \u001b[0mencoding\u001b[0m\u001b[0;34m=\u001b[0m\u001b[0mencoding\u001b[0m\u001b[0;34m)\u001b[0m\u001b[0;34m\u001b[0m\u001b[0;34m\u001b[0m\u001b[0m\n\u001b[0m\u001b[1;32m   1794\u001b[0m             \u001b[0mfid_ctx\u001b[0m \u001b[0;34m=\u001b[0m \u001b[0mcontextlib\u001b[0m\u001b[0;34m.\u001b[0m\u001b[0mclosing\u001b[0m\u001b[0;34m(\u001b[0m\u001b[0mfid\u001b[0m\u001b[0;34m)\u001b[0m\u001b[0;34m\u001b[0m\u001b[0;34m\u001b[0m\u001b[0m\n\u001b[1;32m   1795\u001b[0m         \u001b[0;32melse\u001b[0m\u001b[0;34m:\u001b[0m\u001b[0;34m\u001b[0m\u001b[0;34m\u001b[0m\u001b[0m\n",
            "\u001b[0;32m/usr/local/lib/python3.7/dist-packages/numpy/lib/_datasource.py\u001b[0m in \u001b[0;36mopen\u001b[0;34m(path, mode, destpath, encoding, newline)\u001b[0m\n\u001b[1;32m    191\u001b[0m \u001b[0;34m\u001b[0m\u001b[0m\n\u001b[1;32m    192\u001b[0m     \u001b[0mds\u001b[0m \u001b[0;34m=\u001b[0m \u001b[0mDataSource\u001b[0m\u001b[0;34m(\u001b[0m\u001b[0mdestpath\u001b[0m\u001b[0;34m)\u001b[0m\u001b[0;34m\u001b[0m\u001b[0;34m\u001b[0m\u001b[0m\n\u001b[0;32m--> 193\u001b[0;31m     \u001b[0;32mreturn\u001b[0m \u001b[0mds\u001b[0m\u001b[0;34m.\u001b[0m\u001b[0mopen\u001b[0m\u001b[0;34m(\u001b[0m\u001b[0mpath\u001b[0m\u001b[0;34m,\u001b[0m \u001b[0mmode\u001b[0m\u001b[0;34m,\u001b[0m \u001b[0mencoding\u001b[0m\u001b[0;34m=\u001b[0m\u001b[0mencoding\u001b[0m\u001b[0;34m,\u001b[0m \u001b[0mnewline\u001b[0m\u001b[0;34m=\u001b[0m\u001b[0mnewline\u001b[0m\u001b[0;34m)\u001b[0m\u001b[0;34m\u001b[0m\u001b[0;34m\u001b[0m\u001b[0m\n\u001b[0m\u001b[1;32m    194\u001b[0m \u001b[0;34m\u001b[0m\u001b[0m\n\u001b[1;32m    195\u001b[0m \u001b[0;34m\u001b[0m\u001b[0m\n",
            "\u001b[0;32m/usr/local/lib/python3.7/dist-packages/numpy/lib/_datasource.py\u001b[0m in \u001b[0;36mopen\u001b[0;34m(self, path, mode, encoding, newline)\u001b[0m\n\u001b[1;32m    531\u001b[0m                                       encoding=encoding, newline=newline)\n\u001b[1;32m    532\u001b[0m         \u001b[0;32melse\u001b[0m\u001b[0;34m:\u001b[0m\u001b[0;34m\u001b[0m\u001b[0;34m\u001b[0m\u001b[0m\n\u001b[0;32m--> 533\u001b[0;31m             \u001b[0;32mraise\u001b[0m \u001b[0mIOError\u001b[0m\u001b[0;34m(\u001b[0m\u001b[0;34m\"%s not found.\"\u001b[0m \u001b[0;34m%\u001b[0m \u001b[0mpath\u001b[0m\u001b[0;34m)\u001b[0m\u001b[0;34m\u001b[0m\u001b[0;34m\u001b[0m\u001b[0m\n\u001b[0m\u001b[1;32m    534\u001b[0m \u001b[0;34m\u001b[0m\u001b[0m\n\u001b[1;32m    535\u001b[0m \u001b[0;34m\u001b[0m\u001b[0m\n",
            "\u001b[0;31mOSError\u001b[0m: pongdata.csv not found."
          ]
        }
      ]
    },
    {
      "cell_type": "markdown",
      "source": [
        "**Using Google Colab**"
      ],
      "metadata": {
        "id": "xtytIJNnNXyi"
      }
    },
    {
      "cell_type": "code",
      "source": [
        "from google.colab import drive\n",
        "drive.mount('/content/gdrive')"
      ],
      "metadata": {
        "colab": {
          "base_uri": "https://localhost:8080/"
        },
        "id": "HncDLDcqM0AC",
        "outputId": "11a93df2-22bd-499a-e5ea-3229dbac281e"
      },
      "execution_count": 5,
      "outputs": [
        {
          "output_type": "stream",
          "name": "stdout",
          "text": [
            "Mounted at /content/gdrive\n"
          ]
        }
      ]
    },
    {
      "cell_type": "code",
      "source": [
        "csvdata = np.genfromtxt(\"/content/gdrive/My Drive/pongdata.csv\", delimiter=',')"
      ],
      "metadata": {
        "id": "2DKSUzbKM9aG"
      },
      "execution_count": 6,
      "outputs": []
    },
    {
      "cell_type": "markdown",
      "source": [
        "## Testing if Data Imported Correctly"
      ],
      "metadata": {
        "id": "3UGLgr5PNm9M"
      }
    },
    {
      "cell_type": "code",
      "metadata": {
        "scrolled": true,
        "id": "-tWPuZc0onDW",
        "colab": {
          "base_uri": "https://localhost:8080/"
        },
        "outputId": "f8908a26-e5b2-488f-bd12-50fc4985378a"
      },
      "source": [
        "csvdata[:,4:]\n",
        "\n",
        "data = random.choice(csvdata)\n",
        "for i in range(4000):\n",
        "    data = np.vstack((data, random.choice(csvdata)))\n",
        "print(data[:50])"
      ],
      "execution_count": 7,
      "outputs": [
        {
          "output_type": "stream",
          "name": "stdout",
          "text": [
            "[[272.  -1. 241.   0.]\n",
            " [257.  -1. 237.   0.]\n",
            " [ 96.  -1.  23.   1.]\n",
            " [ 32.  -1.  33.   0.]\n",
            " [141.  -1. 164.   0.]\n",
            " [ 46.  -1.  69.   0.]\n",
            " [ 84.  -1. 107.   0.]\n",
            " [257.  -1. 216.   1.]\n",
            " [ 24.  -1.   9.   1.]\n",
            " [ 21.  -1.  22.   0.]\n",
            " [172.  -1. 195.   0.]\n",
            " [175.  -1. 198.   0.]\n",
            " [ 26.  -1.  27.   0.]\n",
            " [214.  -1. 237.   0.]\n",
            " [ 17.  -1.   9.   1.]\n",
            " [114.  -1.  41.   1.]\n",
            " [183.  -1. 110.   1.]\n",
            " [270.  -1. 241.   0.]\n",
            " [ 21.  -1.  22.   0.]\n",
            " [224.  -1. 183.   1.]\n",
            " [ 41.  -1.   9.   1.]\n",
            " [138.  -1.  65.   1.]\n",
            " [128.  -1. 151.   0.]\n",
            " [145.  -1. 168.   0.]\n",
            " [ 83.  -1.  84.   0.]\n",
            " [278.  -1. 237.   1.]\n",
            " [269.  -1. 241.   0.]\n",
            " [163.  -1. 186.   0.]\n",
            " [ 53.  -1.   9.   1.]\n",
            " [236.  -1. 195.   1.]\n",
            " [112.  -1.  39.   1.]\n",
            " [ 43.  -1.   9.   1.]\n",
            " [112.  -1. 135.   0.]\n",
            " [268.  -1. 227.   1.]\n",
            " [ 70.  -1.   9.   1.]\n",
            " [157.  -1. 180.   0.]\n",
            " [241.  -1. 200.   1.]\n",
            " [204.  -1. 145.   1.]\n",
            " [ 68.  -1.   9.   1.]\n",
            " [ 46.  -1.  47.   0.]\n",
            " [ 67.  -1.  72.   0.]\n",
            " [280.  -1. 239.   1.]\n",
            " [216.  -1. 143.   1.]\n",
            " [185.  -1. 144.   1.]\n",
            " [ 12.  -1.   9.   1.]\n",
            " [120.  -1.  47.   1.]\n",
            " [251.  -1. 210.   1.]\n",
            " [190.  -1. 213.   0.]\n",
            " [202.  -1. 161.   1.]\n",
            " [239.  -1. 241.   0.]]\n"
          ]
        }
      ]
    },
    {
      "cell_type": "code",
      "metadata": {
        "id": "8XIP-jSnonDX"
      },
      "source": [
        "features = data[:,:3]\n",
        "labels = data[:,3:]\n"
      ],
      "execution_count": 8,
      "outputs": []
    },
    {
      "cell_type": "markdown",
      "source": [
        "## Train AI"
      ],
      "metadata": {
        "id": "ewDguD9kNvuz"
      }
    },
    {
      "cell_type": "code",
      "metadata": {
        "id": "vGCRxDMconDY",
        "outputId": "a9e293f4-a7d9-4e25-caf2-8c0133b153e1",
        "colab": {
          "base_uri": "https://localhost:8080/"
        }
      },
      "source": [
        "AI = MultiLayerPerceptron(3e-4, 10000)\n",
        "\n",
        "AI.addLayer(3, None, None)\n",
        "AI.addLayer(10, sigmoid, sigmoidDerivative)\n",
        "#AI.addLayer(10, sigmoid, sigmoidDerivative)\n",
        "AI.addLayer(5, sigmoid, sigmoidDerivative)\n",
        "AI.addLayer(1, sigmoid, sigmoidDerivative)\n",
        "    \n",
        "AI.train(features, labels)"
      ],
      "execution_count": 9,
      "outputs": [
        {
          "output_type": "stream",
          "name": "stderr",
          "text": [
            "Algorithm Progress: 100%|██████████| 10000/10000 [01:02<00:00, 159.35it/s]\n"
          ]
        }
      ]
    },
    {
      "cell_type": "code",
      "metadata": {
        "scrolled": true,
        "id": "lzNREI-HonDe",
        "outputId": "44764a61-a139-48ac-cd53-d0e801c12aa3",
        "colab": {
          "base_uri": "https://localhost:8080/",
          "height": 276
        }
      },
      "source": [
        "import matplotlib.pyplot as plt\n",
        "%matplotlib inline\n",
        "plt.plot(AI.squareErrorMatrix[9990:])\n",
        "plt.show()"
      ],
      "execution_count": 10,
      "outputs": [
        {
          "output_type": "display_data",
          "data": {
            "text/plain": [
              "<Figure size 432x288 with 1 Axes>"
            ],
            "image/png": "[encoded data removed]"
          },
          "metadata": {
            "needs_background": "light"
          }
        }
      ]
    },
    {
      "cell_type": "markdown",
      "source": [
        "##Play Pong with Two AI\n",
        "\n",
        "\n",
        "> Need Video Device (works with Jupyter Notebook and pip install pygame)\n",
        "\n",
        "\n",
        "\n",
        "\n"
      ],
      "metadata": {
        "id": "krt7lJO0Nz5g"
      }
    },
    {
      "cell_type": "code",
      "metadata": {
        "colab": {
          "base_uri": "https://localhost:8080/",
          "height": 460
        },
        "id": "7DvV2U3OonDB",
        "outputId": "dff1f12f-486b-4161-9af0-8ad18092146d"
      },
      "source": [
        "#%run \"pongDNN.ipynb\"\n",
        "!pip install pygame;\n",
        "\n",
        "# \n",
        "import pygame, sys\n",
        "from pygame.locals import *\n",
        "\n",
        "from IPython.core.debugger import set_trace\n",
        "\n",
        "# Number of frames per second\n",
        "# Change this value to speed up or slow down your game\n",
        "FPS = 2000000000\n",
        "\n",
        "#Global Variables to be used through our program\n",
        "\n",
        "WINDOWWIDTH = 400\n",
        "WINDOWHEIGHT = 300\n",
        "LINETHICKNESS = 10\n",
        "PADDLESIZE = 50\n",
        "PADDLEOFFSET = 20\n",
        "#14590\n",
        "\n",
        "# Set up the colours\n",
        "BLACK     = (0,255,255)\n",
        "WHITE     = (0,0,255)\n",
        "\n",
        "#Draws the arena the game will be played in. \n",
        "def drawArena():\n",
        "    DISPLAYSURF.fill((0,255,0))\n",
        "    #Draw outline of arena\n",
        "    pygame.draw.rect(DISPLAYSURF, WHITE, ((0,0),(WINDOWWIDTH,WINDOWHEIGHT)), LINETHICKNESS*2)\n",
        "    #Draw centre line\n",
        "    pygame.draw.line(DISPLAYSURF, WHITE, (int(WINDOWWIDTH/2),0),(int(WINDOWWIDTH/2),WINDOWHEIGHT), int(LINETHICKNESS/4))\n",
        "\n",
        "\n",
        "#Draws the paddle\n",
        "def drawPaddle(paddle):\n",
        "    #Stops paddle moving too low\n",
        "    if paddle.bottom > WINDOWHEIGHT - LINETHICKNESS:\n",
        "        paddle.bottom = WINDOWHEIGHT - LINETHICKNESS\n",
        "    #Stops paddle moving too high\n",
        "    elif paddle.top < LINETHICKNESS:\n",
        "        paddle.top = LINETHICKNESS\n",
        "    #Draws paddle\n",
        "    pygame.draw.rect(DISPLAYSURF, WHITE, paddle)\n",
        "\n",
        "\n",
        "#draws the ball\n",
        "def drawBall(ball):\n",
        "    pygame.draw.rect(DISPLAYSURF, WHITE, ball)\n",
        "\n",
        "#moves the ball returns new position\n",
        "def moveBall(ball, ballDirX, ballDirY):\n",
        "    ball.x += ballDirX \n",
        "    ball.y += ballDirY\n",
        "    return ball\n",
        "\n",
        "#Checks for a collision with a wall, and 'bounces' ball off it.\n",
        "#Returns new direction\n",
        "def checkEdgeCollision(ball, ballDirX, ballDirY):\n",
        "    if ball.top == (LINETHICKNESS) or ball.bottom == (WINDOWHEIGHT - LINETHICKNESS):\n",
        "        ballDirY = ballDirY * -1\n",
        "    if ball.left == (LINETHICKNESS) or ball.right == (WINDOWWIDTH - LINETHICKNESS):\n",
        "        ballDirX = ballDirX * -1\n",
        "    return ballDirX, ballDirY\n",
        "\n",
        "#Checks is the ball has hit a paddle, and 'bounces' ball off it.     \n",
        "def checkHitBall(ball, paddle1, paddle2, ballDirX):\n",
        "    if ballDirX == -1 and paddle1.right == ball.left and paddle1.top-20 < ball.top and paddle1.bottom+20 > ball.bottom:\n",
        "        return -1\n",
        "    elif ballDirX == 1 and ball.right-paddle2.left > 0 and ball.right-paddle2.left < LINETHICKNESS/2 and \\\n",
        "                    paddle2.top-20 < ball.top and paddle2.bottom+20 > ball.bottom:\n",
        "        return -1\n",
        "    else: return 1\n",
        "\n",
        "#Checks to see if a point has been scored returns new score\n",
        "def checkPointScored(paddle1, paddle2, ball, ascore, pscore, reset, ballDirX):\n",
        "    #reset points if right wall is hit\n",
        "    global FPS\n",
        "    if ball.right == WINDOWWIDTH - LINETHICKNESS: \n",
        "        ascore = 14590\n",
        "        pscore = 14590\n",
        "        FPS = 200\n",
        "        reset = True\n",
        "        return ascore, pscore, reset\n",
        "    #1 point for hitting the ball\n",
        "    elif ballDirX == 1 and ball.right-paddle2.left > 0 and ball.right-paddle2.left < LINETHICKNESS/2 and \\\n",
        "                    paddle2.top-20 < ball.top and paddle2.bottom+20 > ball.bottom:\n",
        "        pscore += 1\n",
        "        #PADDLESIZE -= 0.25\n",
        "        FPS += 5\n",
        "        return ascore, pscore, reset\n",
        "    elif ballDirX == -1 and paddle1.right == ball.left and paddle1.top-20 < ball.top and paddle1.bottom+20 > ball.bottom:\n",
        "        ascore += 1\n",
        "        #PADDLESIZE -= 0.25\n",
        "        FPS += 5\n",
        "        return ascore, pscore, reset\n",
        "    #5 points for beating the other paddle\n",
        "    elif ball.left == LINETHICKNESS:\n",
        "        ascore = 0\n",
        "        pscore = 0\n",
        "        reset = True\n",
        "        return ascore, pscore, reset\n",
        "    #if no points scored, return score unchanged\n",
        "    else: return ascore, pscore, reset\n",
        "\n",
        "# TODO 2 - part B - Record training data\n",
        "import csv\n",
        "def recordData(ball, ballDirX, ballDirY, paddle1, change):    \n",
        "    fileName = \"pongdata\" + str('.csv')\n",
        "    with open(fileName, mode='a') as pongData_file:\n",
        "        pongData_writer = csv.writer(pongData_file, delimiter=',', quotechar='\"', quoting=csv.QUOTE_MINIMAL)\n",
        "        #pongData_writer.writerow([ball.x, ball.y, ballDirX, ballDirY, paddle1.y, change])   \n",
        "        pongData_writer.writerow([ball.y, ballDirX, paddle1.y, change])   \n",
        "    \n",
        "# Conventional computer player \n",
        "def conventionalPlayer(ball, ballDirX, paddle2):\n",
        "    paddle2yInc = 0\n",
        "\n",
        "    # TODO 1\n",
        "    # write code to make the computer play the paddle\n",
        "    #print(ball.y,paddle1.y)\n",
        "    \n",
        "    paddle2yInc = ball.y - paddle2.y\n",
        "    \n",
        "    paddle2.y += paddle2yInc \n",
        "    return paddle2.y\n",
        "    \n",
        "# Smart computer player \n",
        "def smartPlayer(ball, ballDirX, ballDirY, paddle1):\n",
        "    paddle1yInc = 0\n",
        "\n",
        "    # TODO 1\n",
        "    # write code to make the computer play the paddle\n",
        "    #print(ball.y,paddle1.y)\n",
        "    #paddle1yInc = ball.y - paddle1.y\n",
        "    \n",
        "    if ballDirX == -1:\n",
        "        delta = ball.left - paddle1.right\n",
        "        newY = ballDirY*delta + ball.y\n",
        "        if newY > 0  and newY < 300:\n",
        "            paddle1.y = newY - 25\n",
        "    recordData(ball, ballDirX, ballDirY, paddle1)\n",
        "    return paddle1\n",
        "    \n",
        "# Chaotic good computer player \n",
        "def legalPlayer(ball, ballDirX, ballDirY, paddle1):\n",
        "    paddle1yInc = 0\n",
        "    change = 0\n",
        "    cfactor=0.5\n",
        "    # TODO 1\n",
        "    # write code to make the computer play the paddle\n",
        "    #print(ball.y,paddle1.y)\n",
        "    #paddle1yInc = ball.y - paddle1.y\n",
        "    \n",
        "    if ballDirX == -1 and ball.x < WINDOWWIDTH/2:\n",
        "        delta = ball.left - paddle1.right\n",
        "        newPos = ballDirY*delta + ball.y - 25\n",
        "        if newPos <= 0:\n",
        "            newPos = 0\n",
        "        elif newPos >= WINDOWHEIGHT:\n",
        "            newPos = WINDOWHEIGHT\n",
        "        try:\n",
        "            change = (abs(paddle1.y-newPos)/(paddle1.y-newPos))\n",
        "            cfactor = (change + 1) / 2\n",
        "            paddle1.y -= change\n",
        "            recordData(ball, ballDirX, ballDirY, paddle1, cfactor)\n",
        "        except:\n",
        "            None\n",
        "    return paddle1\n",
        "    \n",
        "# Training data generator for the DNN \n",
        "def trainingDataGeneratorForAI(ball, ballDirX, paddle1):\n",
        "    paddle1yInc = 0\n",
        "\n",
        "    # TODO 2 - part A - write the logic for your training program \n",
        "    # Leverage conventionalPlayer code OR leverage your own manual play   \n",
        "    # Call recordData(???, ???, ???, ...) to record the training data in a csv file\n",
        "    \n",
        "    paddle1 = conventionalPlayer(ball, ballDirX, paddle1)\n",
        "    recordData(ball, ballDirX, None, paddle1)\n",
        "    #paddle1.y += paddle1yInc      \n",
        "    return paddle1\n",
        "\n",
        "# pong playing DNN\n",
        "def neuralNetworkAI(ball, ballDirX, ballDirY, paddle1):   \n",
        "    paddle1yInc = 0\n",
        "\n",
        "    # TODO 3 - Hook up your trained neural network to play the game\n",
        "    paddle1.y -= (2 * round(np.asscalar(AI.predictLabels(np.array([ball.y, ballDirX, paddle1.y]))))) - 1\n",
        "    #print(AI.predictLabels(np.array([ball.y, ballDirX, paddle1.y])))\n",
        "    #paddle1.y += paddle1yInc\n",
        "    return paddle1\n",
        "\n",
        "def player1(ball, ballDirX, ballDirY, paddle1, dy):\n",
        "    paddle1.y += dy\n",
        "    return paddle1\n",
        "\n",
        "#Displays the current score on the screen\n",
        "def displayScore(score):\n",
        "    resultSurf = BASICFONT.render('Player Score = %s' %(score), True, WHITE)\n",
        "    resultRect = resultSurf.get_rect()\n",
        "    resultRect.topleft = (WINDOWWIDTH - 185, 25)\n",
        "    DISPLAYSURF.blit(resultSurf, resultRect)\n",
        "    \n",
        "def displayScore2(score):\n",
        "    resultSurf = BASICFONT.render('AI Score = %s' %(score), True, WHITE)\n",
        "    resultRect = resultSurf.get_rect()\n",
        "    resultRect.topleft = (WINDOWWIDTH- 370, 25)\n",
        "    DISPLAYSURF.blit(resultSurf, resultRect)\n",
        "    \n",
        "#Main function\n",
        "def main():\n",
        "    pygame.init()\n",
        "    global DISPLAYSURF\n",
        "    ##Font information\n",
        "    global BASICFONT, BASICFONTSIZE\n",
        "    BASICFONTSIZE = 20\n",
        "    BASICFONT = pygame.font.Font('freesansbold.ttf', BASICFONTSIZE)\n",
        "\n",
        "    FPSCLOCK = pygame.time.Clock()\n",
        "    DISPLAYSURF = pygame.display.set_mode((WINDOWWIDTH,WINDOWHEIGHT)) \n",
        "    pygame.display.set_caption('Pong')\n",
        "\n",
        "    #Initiate variable and set starting positions\n",
        "    #any future changes made within rectangles\n",
        "    ballX = WINDOWWIDTH/2 - LINETHICKNESS/2\n",
        "    ballY = WINDOWHEIGHT/2 - LINETHICKNESS/2\n",
        "    playerOnePosition = (WINDOWHEIGHT - PADDLESIZE) /2\n",
        "    playerTwoPosition = (WINDOWHEIGHT - PADDLESIZE) /2\n",
        "    ascore = 14590\n",
        "    pscore = 14590\n",
        "    dy=0\n",
        "    \n",
        "    reset = False\n",
        "\n",
        "    #Keeps track of ball direction\n",
        "    ballDirX = -1 ## -1 = left 1 = right\n",
        "    ballDirY = 1 ## -1 = up 1 = down\n",
        "    lastDir = 1\n",
        "    #ballspeed = 1\n",
        "\n",
        "    #Creates Rectangles for ball and paddles.\n",
        "    paddle1 = pygame.Rect(PADDLEOFFSET,playerOnePosition, LINETHICKNESS,PADDLESIZE)\n",
        "    paddle2 = pygame.Rect(WINDOWWIDTH - PADDLEOFFSET - LINETHICKNESS, playerTwoPosition, LINETHICKNESS,PADDLESIZE)\n",
        "    ball = pygame.Rect(ballX, ballY, LINETHICKNESS, LINETHICKNESS)\n",
        "\n",
        "    #Draws the starting position of the Arena\n",
        "    drawArena()\n",
        "    drawPaddle(paddle1)\n",
        "    drawPaddle(paddle2)\n",
        "    drawBall(ball)\n",
        "\n",
        "    pygame.mouse.set_visible(0) # make cursor invisible\n",
        "\n",
        "    while True: #main game loop\n",
        "        for event in pygame.event.get():\n",
        "            if event.type == QUIT:\n",
        "                pygame.quit()\n",
        "                sys.exit()\n",
        "            # mouse movement commands\n",
        "            #elif event.type == MOUSEMOTION:\n",
        "            #    mousex, mousey = event.pos\n",
        "            #    paddle2.y = mousey\n",
        "\n",
        "        pressed = pygame.key.get_pressed()\n",
        "        if pressed[pygame.K_UP]:\n",
        "            dy = -1\n",
        "        elif pressed[pygame.K_DOWN]:\n",
        "            dy = 1\n",
        "        else:\n",
        "            dy=0\n",
        "        if reset == True:\n",
        "            reset = False\n",
        "            ball.x = WINDOWWIDTH/2\n",
        "            ball.y = WINDOWHEIGHT/2\n",
        "            ballDirX = -1 ## -1 = left 1 = right\n",
        "            ballDirY = -1 * lastDir\n",
        "            lastDir = -1 * lastDir\n",
        "            \n",
        "            \n",
        "        \n",
        "        \n",
        "        ball = moveBall(ball, ballDirX, ballDirY)\n",
        "        ballDirX, ballDirY = checkEdgeCollision(ball, ballDirX, ballDirY)\n",
        "        ascore, pscore, reset = checkPointScored(paddle1, paddle2, ball, ascore, pscore, reset, ballDirX)\n",
        "        ballDirX = ballDirX * checkHitBall(ball, paddle1, paddle2, ballDirX)\n",
        "        \n",
        "        #paddle2.y = conventionalPlayer(ball, ballDirX, paddle2)\n",
        "        \n",
        "        #paddle1 = smartPlayer(ball, ballDirX, ballDirY, paddle1)\n",
        "        #paddle1 = legalPlayer(ball, ballDirX, ballDirY, paddle1)\n",
        "        #paddle1 = trainingDataGeneratorForAI (ball, ballDirX, paddle1)\n",
        "        paddle1 = neuralNetworkAI (ball, ballDirX, ballDirY, paddle1)\n",
        "        paddle2 = neuralNetworkAI (ball, ballDirX, ballDirY, paddle2)\n",
        "        #paddle2 = player1 (ball, ballDirX, ballDirY, paddle2, dy)\n",
        "        \n",
        "        drawArena()\n",
        "        drawPaddle(paddle1)\n",
        "        drawPaddle(paddle2)\n",
        "        drawBall(ball)\n",
        "        \n",
        "        displayScore2(ascore)\n",
        "        displayScore(pscore)\n",
        "\n",
        "        pygame.display.update()\n",
        "        FPSCLOCK.tick(FPS)\n",
        "        \n",
        "    pygame.display.quit()\n",
        "\n",
        "if __name__=='__main__':\n",
        "    main()"
      ],
      "execution_count": 11,
      "outputs": [
        {
          "output_type": "stream",
          "name": "stdout",
          "text": [
            "Looking in indexes: https://pypi.org/simple, https://us-python.pkg.dev/colab-wheels/public/simple/\n",
            "Collecting pygame\n",
            "  Downloading pygame-2.1.2-cp37-cp37m-manylinux_2_17_x86_64.manylinux2014_x86_64.whl (21.8 MB)\n",
            "\u001b[K     |████████████████████████████████| 21.8 MB 64.8 MB/s \n",
            "\u001b[?25hInstalling collected packages: pygame\n",
            "Successfully installed pygame-2.1.2\n",
            "pygame 2.1.2 (SDL 2.0.16, Python 3.7.15)\n",
            "Hello from the pygame community. https://www.pygame.org/contribute.html\n"
          ]
        },
        {
          "output_type": "error",
          "ename": "error",
          "evalue": "ignored",
          "traceback": [
            "\u001b[0;31m---------------------------------------------------------------------------\u001b[0m",
            "\u001b[0;31merror\u001b[0m                                     Traceback (most recent call last)",
            "\u001b[0;32m<ipython-input-11-d4f14b800b58>\u001b[0m in \u001b[0;36m<module>\u001b[0;34m\u001b[0m\n\u001b[1;32m    310\u001b[0m \u001b[0;34m\u001b[0m\u001b[0m\n\u001b[1;32m    311\u001b[0m \u001b[0;32mif\u001b[0m \u001b[0m__name__\u001b[0m\u001b[0;34m==\u001b[0m\u001b[0;34m'__main__'\u001b[0m\u001b[0;34m:\u001b[0m\u001b[0;34m\u001b[0m\u001b[0;34m\u001b[0m\u001b[0m\n\u001b[0;32m--> 312\u001b[0;31m     \u001b[0mmain\u001b[0m\u001b[0;34m(\u001b[0m\u001b[0;34m)\u001b[0m\u001b[0;34m\u001b[0m\u001b[0;34m\u001b[0m\u001b[0m\n\u001b[0m",
            "\u001b[0;32m<ipython-input-11-d4f14b800b58>\u001b[0m in \u001b[0;36mmain\u001b[0;34m()\u001b[0m\n\u001b[1;32m    220\u001b[0m \u001b[0;34m\u001b[0m\u001b[0m\n\u001b[1;32m    221\u001b[0m     \u001b[0mFPSCLOCK\u001b[0m \u001b[0;34m=\u001b[0m \u001b[0mpygame\u001b[0m\u001b[0;34m.\u001b[0m\u001b[0mtime\u001b[0m\u001b[0;34m.\u001b[0m\u001b[0mClock\u001b[0m\u001b[0;34m(\u001b[0m\u001b[0;34m)\u001b[0m\u001b[0;34m\u001b[0m\u001b[0;34m\u001b[0m\u001b[0m\n\u001b[0;32m--> 222\u001b[0;31m     \u001b[0mDISPLAYSURF\u001b[0m \u001b[0;34m=\u001b[0m \u001b[0mpygame\u001b[0m\u001b[0;34m.\u001b[0m\u001b[0mdisplay\u001b[0m\u001b[0;34m.\u001b[0m\u001b[0mset_mode\u001b[0m\u001b[0;34m(\u001b[0m\u001b[0;34m(\u001b[0m\u001b[0mWINDOWWIDTH\u001b[0m\u001b[0;34m,\u001b[0m\u001b[0mWINDOWHEIGHT\u001b[0m\u001b[0;34m)\u001b[0m\u001b[0;34m)\u001b[0m\u001b[0;34m\u001b[0m\u001b[0;34m\u001b[0m\u001b[0m\n\u001b[0m\u001b[1;32m    223\u001b[0m     \u001b[0mpygame\u001b[0m\u001b[0;34m.\u001b[0m\u001b[0mdisplay\u001b[0m\u001b[0;34m.\u001b[0m\u001b[0mset_caption\u001b[0m\u001b[0;34m(\u001b[0m\u001b[0;34m'Pong'\u001b[0m\u001b[0;34m)\u001b[0m\u001b[0;34m\u001b[0m\u001b[0;34m\u001b[0m\u001b[0m\n\u001b[1;32m    224\u001b[0m \u001b[0;34m\u001b[0m\u001b[0m\n",
            "\u001b[0;31merror\u001b[0m: No available video device"
          ]
        }
      ]
    }
  ]
}